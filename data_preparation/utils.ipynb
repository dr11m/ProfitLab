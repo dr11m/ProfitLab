{
 "cells": [
  {
   "cell_type": "markdown",
   "metadata": {},
   "source": [
    "# Variety of useful cells for changing data"
   ]
  },
  {
   "cell_type": "markdown",
   "metadata": {},
   "source": [
    "## load data"
   ]
  },
  {
   "cell_type": "code",
   "execution_count": null,
   "metadata": {},
   "outputs": [],
   "source": [
    "# to work from the project's root directory\n",
    "import sys\n",
    "import os\n",
    "\n",
    "project_root = os.path.abspath(os.path.join(os.getcwd(), \"..\"))\n",
    "if project_root not in sys.path:\n",
    "    sys.path.append(project_root)\n",
    "\n",
    "import pandas as pd\n",
    "\n",
    "df = pd.read_csv(\"../datasets/ready_to_work/test_data_15_958_with_real_sold_prices.csv\", comment=\"#\")  # if the first line of the csv contains a comment\n",
    "\n",
    "df.head()"
   ]
  },
  {
   "cell_type": "markdown",
   "metadata": {},
   "source": [
    "+/- N% percent to specified column\n",
    "\n",
    "buy_price - 20% == buy_price * 0.8\n",
    "\n",
    "buy_price + 20% == buy_price / 0.8"
   ]
  },
  {
   "cell_type": "code",
   "execution_count": 2,
   "metadata": {},
   "outputs": [],
   "source": [
    "df['buy_price'] = df['buy_price'] / 0.8"
   ]
  },
  {
   "cell_type": "code",
   "execution_count": null,
   "metadata": {},
   "outputs": [],
   "source": [
    "df['buy_price'] = df['buy_price'] * 0.8  "
   ]
  },
  {
   "cell_type": "markdown",
   "metadata": {},
   "source": [
    "predicted_price - platform fee"
   ]
  },
  {
   "cell_type": "code",
   "execution_count": 9,
   "metadata": {},
   "outputs": [],
   "source": [
    "df['predicted_price_1'] = df['predicted_price_1'] * 0.98"
   ]
  },
  {
   "cell_type": "markdown",
   "metadata": {},
   "source": [
    "hide names"
   ]
  },
  {
   "cell_type": "code",
   "execution_count": 4,
   "metadata": {},
   "outputs": [],
   "source": [
    "df['name'] = [f'test_name_{i}' for i in range(len(df))]"
   ]
  },
  {
   "cell_type": "markdown",
   "metadata": {},
   "source": [
    "## Save Data"
   ]
  },
  {
   "cell_type": "code",
   "execution_count": 10,
   "metadata": {},
   "outputs": [],
   "source": [
    "csv_name = \"../datasets/ready_to_work/test_data_15_958_with_real_sold_prices.csv\"\n",
    "description = \"test data of 15 prices and timestamps with a masked name with a real sold prices, predicted_price_1-2 - fees, and buy_price adjusted by 20% (origin - not specified)\\n\"\n",
    "\n",
    "\n",
    "def save_csv_with_a_description(df: pd.DataFrame, csv_name: str, description: str):\n",
    "    description = \"# \" + description  # add a comment symbol\n",
    "\n",
    "    df.to_csv(csv_name, index=False)\n",
    "\n",
    "    # open csv and add  description at the firsrt row\n",
    "    with open(csv_name, 'w', encoding='utf-8', newline='') as f:\n",
    "        f.write(description)  # Записываем описание\n",
    "        df.to_csv(f, index=False)  # Записываем DataFrame\n",
    "\n",
    "\n",
    "save_csv_with_a_description(df, csv_name, description)"
   ]
  }
 ],
 "metadata": {
  "kernelspec": {
   "display_name": "playground_to_test_models_profitability-T2oJk7ji",
   "language": "python",
   "name": "python3"
  },
  "language_info": {
   "codemirror_mode": {
    "name": "ipython",
    "version": 3
   },
   "file_extension": ".py",
   "mimetype": "text/x-python",
   "name": "python",
   "nbconvert_exporter": "python",
   "pygments_lexer": "ipython3",
   "version": "3.10.8"
  }
 },
 "nbformat": 4,
 "nbformat_minor": 2
}
