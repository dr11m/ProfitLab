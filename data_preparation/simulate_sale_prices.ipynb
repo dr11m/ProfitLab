{
 "cells": [
  {
   "cell_type": "markdown",
   "metadata": {},
   "source": [
    "# Load the dataset and get sale prices based on one of the simulation methods\n",
    "\n",
    "\n",
    "## **Table of Contents**\n",
    "1. [Data Loading](#load-data)  \n",
    "2. [Adding `sold_price`](#select-a-method-to-get-the-sale-price-and-add-them-to-a-new-column)  \n",
    "3. [Visualization](#visualize)  \n",
    "4. [Saving Data](#save-data)  "
   ]
  },
  {
   "cell_type": "markdown",
   "metadata": {},
   "source": [
    "## Load Data"
   ]
  },
  {
   "cell_type": "code",
   "execution_count": 1,
   "metadata": {},
   "outputs": [],
   "source": [
    "# to work from the project's root directory\n",
    "import sys\n",
    "import os\n",
    "\n",
    "project_root = os.path.abspath(os.path.join(os.getcwd(), \"..\"))\n",
    "if project_root not in sys.path:\n",
    "    sys.path.append(project_root)"
   ]
  },
  {
   "cell_type": "code",
   "execution_count": null,
   "metadata": {},
   "outputs": [],
   "source": [
    "import pandas as pd\n",
    "\n",
    "df = pd.read_csv(\"../datasets/raw_data/test_data_15_2608.csv\", comment=\"#\")  # if the first line of the csv contains a comment\n",
    "\n",
    "df.head()"
   ]
  },
  {
   "cell_type": "markdown",
   "metadata": {},
   "source": [
    "Ensure that data is in the correct format by loading the Pydantic model"
   ]
  },
  {
   "cell_type": "code",
   "execution_count": null,
   "metadata": {},
   "outputs": [],
   "source": [
    "from src.models import SaleRow\n",
    "from pydantic import ValidationError\n",
    "\n",
    "\n",
    "def validate_df(df):\n",
    "    try:\n",
    "        validated_rows = [SaleRow(**row) for row in df.to_dict(orient='records')]\n",
    "        return validated_rows\n",
    "    except ValidationError as e:\n",
    "        print(e)\n",
    "        return None\n",
    "\n",
    "# usage\n",
    "validated_rows = validate_df(df)\n",
    "if validated_rows:\n",
    "    print(\"All rows are valid\")\n",
    "else:\n",
    "    print(\"Some rows are invalid\")"
   ]
  },
  {
   "cell_type": "markdown",
   "metadata": {},
   "source": [
    "## Select a method to get the sale price and add them to a new column"
   ]
  },
  {
   "cell_type": "code",
   "execution_count": 6,
   "metadata": {},
   "outputs": [],
   "source": [
    "sale_price_commision = 0.98  # 0.02 = 2% commision (e.g sold_price * 0.98), 1 if its not exist"
   ]
  },
  {
   "cell_type": "markdown",
   "metadata": {},
   "source": [
    "#### 1) get_average_sale_price"
   ]
  },
  {
   "cell_type": "markdown",
   "metadata": {},
   "source": [
    "*P.S. To learn more about the function you can read its documentation (ctrl + click on functions name).*"
   ]
  },
  {
   "cell_type": "code",
   "execution_count": null,
   "metadata": {},
   "outputs": [],
   "source": [
    "from src.simulations.simple_mean import get_average_sale_price \n",
    "\n",
    "\n",
    "print(f\"(before) amount of columns is {len(df.columns)}\")\n",
    "\n",
    "df['sold_price'] = df.apply(\n",
    "    lambda row: get_average_sale_price([\n",
    "        row['price_11'],\n",
    "        row['price_12'],\n",
    "        row['price_13'],\n",
    "        row['price_14'],\n",
    "        row['price_15']\n",
    "    ]) * sale_price_commision,\n",
    "    axis=1\n",
    ")\n",
    "\n",
    "df['sold_price'] = df['sold_price'].apply(lambda x: round(x, 3))\n",
    "\n",
    "print(f\"(after) amount of columns is {len(df.columns)}\")\n"
   ]
  },
  {
   "cell_type": "markdown",
   "metadata": {},
   "source": [
    "#### 2) calculate_expected_sale_price"
   ]
  },
  {
   "cell_type": "markdown",
   "metadata": {},
   "source": [
    "*P.S. To learn more about the function you can read its documentation (ctrl + click on functions name).*"
   ]
  },
  {
   "cell_type": "code",
   "execution_count": null,
   "metadata": {},
   "outputs": [],
   "source": [
    "from src.simulations.expected_sale_price import calculate_expected_sale_price \n",
    "\n",
    "\n",
    "min_profit = 0.25\n",
    "delta = 0.01\n",
    "success_prob = 0.75\n",
    "fee = 0.87\n",
    "\n",
    "\n",
    "print(f\"(before) amount of columns is {len(df.columns)}\")\n",
    "\n",
    "df['sold_price'] = df.apply(\n",
    "    lambda row: calculate_expected_sale_price(\n",
    "            [\n",
    "                row['price_11'],\n",
    "                row['price_12'],\n",
    "                row['price_13'],\n",
    "                row['price_14'],\n",
    "                row['price_15']\n",
    "            ],\n",
    "            row[\"buy_price\"],\n",
    "            min_profit,\n",
    "            delta,\n",
    "            success_prob,\n",
    "            fee\n",
    "        ) * sale_price_commision,\n",
    "    axis=1\n",
    ")\n",
    "\n",
    "df['sold_price'] = df['sold_price'].apply(lambda x: round(x, 3))\n",
    "\n",
    "print(f\"(after) amount of columns is {len(df.columns)}\")\n"
   ]
  },
  {
   "cell_type": "markdown",
   "metadata": {},
   "source": [
    "## Visualize"
   ]
  },
  {
   "cell_type": "code",
   "execution_count": null,
   "metadata": {},
   "outputs": [],
   "source": [
    "import matplotlib.pyplot as plt\n",
    "import numpy as np\n",
    "import pandas as pd\n",
    "\n",
    "# Функция для отображения графиков\n",
    "def plot_random_samples(df, n_samples=10):\n",
    "    # Выбираем случайные n_samples строк\n",
    "    sample_indices = np.random.choice(df.index, size=n_samples, replace=False)\n",
    "    sampled_df = df.loc[sample_indices]\n",
    "\n",
    "    # Создаем графики\n",
    "    fig, axes = plt.subplots(n_samples, 1, figsize=(10, 3 * n_samples))\n",
    "    if n_samples == 1:\n",
    "        axes = [axes]  # Чтобы работало для n_samples=1\n",
    "\n",
    "    for i, (idx, row) in enumerate(sampled_df.iterrows()):\n",
    "        # Цены price_1-10\n",
    "        prices_1_10 = row[['price_1', 'price_2', 'price_3', 'price_4', 'price_5',\n",
    "                           'price_6', 'price_7', 'price_8', 'price_9', 'price_10']]\n",
    "        \n",
    "        # Цены price_11-15\n",
    "        prices_11_15 = row[['price_11', 'price_12', 'price_13', 'price_14', 'price_15']]\n",
    "        \n",
    "        # Sold price\n",
    "        sold_price = row['sold_price']\n",
    "\n",
    "        # Построение графика\n",
    "        ax = axes[i]\n",
    "        ax.plot(range(1, 11), prices_1_10, label='Price 1-10', marker='o')\n",
    "        ax.plot(range(11, 16), prices_11_15, label='Price 11-15', marker='x')\n",
    "        ax.axhline(sold_price, color='red', linestyle='--', label='Sold Price')\n",
    "        ax.set_title(f\"Item {idx}\")\n",
    "        ax.set_xlabel(\"Day\")\n",
    "        ax.set_ylabel(\"Price\")\n",
    "        ax.legend()\n",
    "        ax.grid()\n",
    "\n",
    "    plt.tight_layout()\n",
    "    plt.show()\n",
    "\n",
    "# Пример использования\n",
    "plot_random_samples(df, n_samples=30)"
   ]
  },
  {
   "cell_type": "markdown",
   "metadata": {},
   "source": [
    "## Save Data"
   ]
  },
  {
   "cell_type": "code",
   "execution_count": 8,
   "metadata": {},
   "outputs": [],
   "source": [
    "csv_name = \"../datasets/with_sale_prices/test_data_15_2608.csv\"\n",
    "description = \"test data of 15 prices and timestamps with a masked name with a sold prices [sold_price] (origin - not specified)\\n\"\n",
    "\n",
    "\n",
    "def save_csv_with_a_description(df: pd.DataFrame, csv_name: str, description: str):\n",
    "    description = \"# \" + description  # add a comment symbol\n",
    "\n",
    "    df.to_csv(csv_name, index=False)\n",
    "\n",
    "    # open csv and add  description at the firsrt row\n",
    "    with open(csv_name, 'w', encoding='utf-8', newline='') as f:\n",
    "        f.write(description)  # Записываем описание\n",
    "        df.to_csv(f, index=False)  # Записываем DataFrame\n",
    "\n",
    "\n",
    "save_csv_with_a_description(df, csv_name, description)"
   ]
  }
 ],
 "metadata": {
  "kernelspec": {
   "display_name": "playground_to_test_models_profitability-T2oJk7ji",
   "language": "python",
   "name": "python3"
  },
  "language_info": {
   "codemirror_mode": {
    "name": "ipython",
    "version": 3
   },
   "file_extension": ".py",
   "mimetype": "text/x-python",
   "name": "python",
   "nbconvert_exporter": "python",
   "pygments_lexer": "ipython3",
   "version": "3.10.8"
  }
 },
 "nbformat": 4,
 "nbformat_minor": 2
}
