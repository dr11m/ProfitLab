{
 "cells": [
  {
   "cell_type": "markdown",
   "metadata": {},
   "source": [
    "# Adding predictions"
   ]
  },
  {
   "cell_type": "markdown",
   "metadata": {},
   "source": [
    "## Load and validate data"
   ]
  },
  {
   "cell_type": "markdown",
   "metadata": {},
   "source": [
    "to work from the project's root directory"
   ]
  },
  {
   "cell_type": "code",
   "execution_count": 1,
   "metadata": {},
   "outputs": [],
   "source": [
    "import sys\n",
    "import os\n",
    "\n",
    "project_root = os.path.abspath(os.path.join(os.getcwd(), \"..\"))\n",
    "if project_root not in sys.path:\n",
    "    sys.path.append(project_root)"
   ]
  },
  {
   "cell_type": "code",
   "execution_count": null,
   "metadata": {},
   "outputs": [],
   "source": [
    "import pandas as pd\n",
    "\n",
    "df = pd.read_csv(\"../datasets/with_sale_prices/test_data_15_2608.csv\", comment=\"#\")  # if the first line of the csv contains a comment\n",
    "\n",
    "df.head()"
   ]
  },
  {
   "cell_type": "markdown",
   "metadata": {},
   "source": [
    "Ensure that data is in the correct format by loading the Pydantic model"
   ]
  },
  {
   "cell_type": "code",
   "execution_count": null,
   "metadata": {},
   "outputs": [],
   "source": [
    "from src.models import SaleRow\n",
    "from pydantic import ValidationError\n",
    "\n",
    "\n",
    "def validate_df(df):\n",
    "    try:\n",
    "        validated_rows = [SaleRow(**row) for row in df.to_dict(orient='records')]\n",
    "        return validated_rows\n",
    "    except ValidationError as e:\n",
    "        print(e)\n",
    "        return None\n",
    "\n",
    "# usage\n",
    "validated_rows = validate_df(df)\n",
    "if validated_rows:\n",
    "    print(\"All rows are valid\")\n",
    "else:\n",
    "    print(\"Some rows are invalid\")"
   ]
  },
  {
   "cell_type": "markdown",
   "metadata": {},
   "source": [
    "## Add predictions"
   ]
  },
  {
   "cell_type": "code",
   "execution_count": 4,
   "metadata": {},
   "outputs": [],
   "source": [
    "sale_price_commision = 0.87  # since predicted price = sell price, 0.02 = 2% commision (e.g predixted_price * 0.98), 1 if its not exist"
   ]
  },
  {
   "cell_type": "code",
   "execution_count": null,
   "metadata": {},
   "outputs": [],
   "source": [
    "from src.ml.get_predicted_price_from_models import get_predicted_data, PredictedData\n",
    "import pandas as pd\n",
    "from IPython.display import clear_output\n",
    "\n",
    "\n",
    "def apply_models_predictions(df: pd.DataFrame) -> pd.DataFrame:\n",
    "    \"\"\"\n",
    "    Applies the model to each item in the dataframe using 10 prices (price_1 ... price_10).\n",
    "    Stores the result in the 'predicted' column.\n",
    "\n",
    "    Arguments:\n",
    "      df: DataFrame with columns price_1 ... price_10\n",
    "\n",
    "    Returns:\n",
    "      Updated df with a new column 'predicted'\n",
    "    \n",
    "    Note:\n",
    "      The prediction is formed as the average of the predictions from CatBoost and LSTM models.\n",
    "    \"\"\"\n",
    "    if 'predict_1_models_mean' not in df.columns:\n",
    "        df['predict_1_models_mean'] = 0.0  # Initialize the column\n",
    "\n",
    "    for idx, row in df.iterrows():\n",
    "        if idx % 200 == 0:\n",
    "            clear_output(wait=True)\n",
    "\n",
    "        prices = [row.get(f\"price_{i}\", None) for i in range(1, 11)]\n",
    "\n",
    "        # Check if all prices are present (skip if any NaN)\n",
    "        if any(pd.isna(price) for price in prices):\n",
    "            print(f\"{idx} - failed to retrieve valid prices!\")\n",
    "            continue\n",
    "\n",
    "        predicted_item_data: PredictedData = get_predicted_data(prices=prices)\n",
    "\n",
    "        # Validate predictions\n",
    "        try:\n",
    "            predicted_item_data.validate()\n",
    "            df.at[idx, 'predict_1_models_mean'] = round(predicted_item_data.mean_1 * sale_price_commision, 3)\n",
    "            print(f\"{idx} - successfully added prediction for\\n {prices}\\n --> {predicted_item_data.mean_1}\")\n",
    "        except ValueError as e:\n",
    "            print(f\"Validation failed for index {idx} with prices {prices}: {e}\")\n",
    "\n",
    "    # Remove rows where predictions remained 0.0 (indicating no valid predictions)\n",
    "    df = df[df['predict_1_models_mean'] != 0.0]\n",
    "\n",
    "    return df\n",
    "\n",
    "\n",
    "apply_models_predictions(df)\n",
    "\n"
   ]
  },
  {
   "cell_type": "markdown",
   "metadata": {},
   "source": [
    "## Save Data"
   ]
  },
  {
   "cell_type": "code",
   "execution_count": 9,
   "metadata": {},
   "outputs": [],
   "source": [
    "csv_name = \"../datasets/ready_to_work/test_data_15_2608.csv\"\n",
    "description = \"test data of 15 prices and timestamps with a masked name with a sold prices and predicted_mean (catboost + lstm mean) (origin - not specified)\\n\"\n",
    "\n",
    "\n",
    "def save_csv_with_a_description(df: pd.DataFrame, csv_name: str, description: str):\n",
    "    description = \"# \" + description  # add a comment symbol\n",
    "\n",
    "    df.to_csv(csv_name, index=False)\n",
    "\n",
    "    # open csv and add  description at the firsrt row\n",
    "    with open(csv_name, 'w', encoding='utf-8', newline='') as f:\n",
    "        f.write(description)  # Записываем описание\n",
    "        df.to_csv(f, index=False)  # Записываем DataFrame\n",
    "\n",
    "\n",
    "save_csv_with_a_description(df, csv_name, description)"
   ]
  }
 ],
 "metadata": {
  "kernelspec": {
   "display_name": "playground_to_test_models_profitability-T2oJk7ji",
   "language": "python",
   "name": "python3"
  },
  "language_info": {
   "codemirror_mode": {
    "name": "ipython",
    "version": 3
   },
   "file_extension": ".py",
   "mimetype": "text/x-python",
   "name": "python",
   "nbconvert_exporter": "python",
   "pygments_lexer": "ipython3",
   "version": "3.10.8"
  }
 },
 "nbformat": 4,
 "nbformat_minor": 2
}
